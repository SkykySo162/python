{
 "cells": [
  {
   "cell_type": "code",
   "execution_count": 17,
   "metadata": {},
   "outputs": [
    {
     "name": "stdout",
     "output_type": "stream",
     "text": [
      "ชื่อ: cs,j,\n",
      "ได้เงินเดือน: 90000000 ดอลล่าห์\n",
      "ค่าล่วงเวลา: 1500000 ดอลล่าห์\n"
     ]
    }
   ],
   "source": [
    "def ot(Time) :\n",
    "    ic = 0\n",
    "   \n",
    "    if Time > 40 :\n",
    "   \n",
    "        ic = Time * 150\n",
    "  \n",
    "    else:\n",
    "        ic = Time * 100\n",
    "    return ic\n",
    "\n",
    "N = input(\"ชื่อชองพนักงาน\")\n",
    "M = int(input(\"เงินเดือนของพนักงาน\"))\n",
    "O = int(input(\"ค่าล่วงเวลาตามชั่วโมง\"))\n",
    "print(\"ชื่อ: %s\" % N)\n",
    "print(\"ได้เงินเดือน: %d ดอลล่าห์\" % M)\n",
    "print(\"ค่าล่วงเวลา: %d ดอลล่าห์\" % ot(O))"
   ]
  }
 ],
 "metadata": {
  "kernelspec": {
   "display_name": "Python 3",
   "language": "python",
   "name": "python3"
  },
  "language_info": {
   "codemirror_mode": {
    "name": "ipython",
    "version": 3
   },
   "file_extension": ".py",
   "mimetype": "text/x-python",
   "name": "python",
   "nbconvert_exporter": "python",
   "pygments_lexer": "ipython3",
   "version": "3.12.3"
  }
 },
 "nbformat": 4,
 "nbformat_minor": 2
}
